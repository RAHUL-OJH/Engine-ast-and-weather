{
  "cells": [
    {
      "cell_type": "code",
      "execution_count": 16,
      "metadata": {
        "colab": {
          "base_uri": "https://localhost:8080/"
        },
        "id": "TTUYb898_DKr",
        "outputId": "25d46742-83ce-426c-9abc-c5ce4392e543"
      },
      "outputs": [
        {
          "name": "stdout",
          "output_type": "stream",
          "text": [
            "Requirement already satisfied: pyparsing in d:\\python ide\\lib\\site-packages (3.1.1)\n"
          ]
        },
        {
          "name": "stderr",
          "output_type": "stream",
          "text": [
            "\n",
            "[notice] A new release of pip is available: 24.0 -> 24.2\n",
            "[notice] To update, run: python.exe -m pip install --upgrade pip\n"
          ]
        }
      ],
      "source": [
        "# Install pyparsing\n",
        "!pip install pyparsing\n"
      ]
    },
    {
      "cell_type": "code",
      "execution_count": 17,
      "metadata": {
        "id": "KeMqjjTAJunW"
      },
      "outputs": [],
      "source": [
        "# Import necessary libraries\n",
        "from pyparsing import Word, alphas, nums, oneOf, QuotedString, Group, Forward, infixNotation, opAssoc\n",
        "\n",
        "# Define Node class for AST structure\n",
        "class Node:\n",
        "    def __init__(self, type, left=None, right=None, value=None):\n",
        "        self.type = type  # Type of the node: \"operator\" or \"operand\"\n",
        "        self.left = left  # Left child node\n",
        "        self.right = right  # Right child node\n",
        "        self.value = value  # Value of the node for operands or operators\n",
        "\n",
        "    def __repr__(self):\n",
        "        if self.type == \"operator\":\n",
        "            return f\"({self.left} {self.value} {self.right})\"\n",
        "        else:\n",
        "            return str(self.value)\n"
      ]
    },
    {
      "cell_type": "code",
      "execution_count": 6,
      "metadata": {
        "id": "IFLIIzO0_MAq"
      },
      "outputs": [],
      "source": [
        "# Define create_rule function to parse rule strings and create AST\n",
        "def create_rule(rule_string):\n",
        "    # Define parsing components\n",
        "    identifier = Word(alphas)  # To capture words like 'age' and 'department'\n",
        "    number = Word(nums)  # To capture numeric values\n",
        "    string_literal = QuotedString(\"'\")  # For string values like 'Sales' or 'Marketing'\n",
        "    operand = identifier | number | string_literal  # Operand can be an identifier, number, or string\n",
        "\n",
        "    # Define comparison and logical operators\n",
        "    comparison_op = oneOf(\"> < =\")  # Comparison operators\n",
        "    logical_op = oneOf(\"AND OR\")  # Logical operators for combining conditions\n",
        "\n",
        "    # Recursive definition for expressions\n",
        "    expr = Forward()\n",
        "    comparison = Group(operand + comparison_op + operand).setParseAction(\n",
        "        lambda t: Node(\"operand\", None, None, t.asList())\n",
        "    )\n",
        "\n",
        "    # Logical operators in infix notation\n",
        "    expr <<= infixNotation(comparison, [\n",
        "        (\"AND\", 2, opAssoc.LEFT, lambda t: Node(\"operator\", t[0][0], t[0][2], \"AND\")),\n",
        "        (\"OR\", 2, opAssoc.LEFT, lambda t: Node(\"operator\", t[0][0], t[0][2], \"OR\"))\n",
        "    ])\n",
        "\n",
        "    # Parse the rule string\n",
        "    try:\n",
        "        parsed = expr.parseString(rule_string, parseAll=True)\n",
        "        return parsed[0]  # Root node of AST\n",
        "    except Exception as e:\n",
        "        print(\"Error parsing rule:\", e)\n",
        "        return None\n"
      ]
    },
    {
      "cell_type": "code",
      "execution_count": 7,
      "metadata": {
        "id": "TYZTEAWU_XR7"
      },
      "outputs": [],
      "source": [
        "# Function to combine multiple ASTs with a logical operator\n",
        "def combine_rules(rules, operator=\"AND\"):\n",
        "    if not rules:\n",
        "        return None\n",
        "    if len(rules) == 1:\n",
        "        return rules[0]\n",
        "\n",
        "    combined_ast = rules[0]\n",
        "    for rule_ast in rules[1:]:\n",
        "        combined_ast = Node(\"operator\", combined_ast, rule_ast, operator)\n",
        "    return combined_ast\n"
      ]
    },
    {
      "cell_type": "code",
      "execution_count": 8,
      "metadata": {
        "id": "7iA-USQNAH0X"
      },
      "outputs": [],
      "source": [
        "# Function to evaluate an AST against user data\n",
        "def evaluate_rule(node, data):\n",
        "    if node.type == \"operand\":\n",
        "        attr, op, val = node.value\n",
        "        attr_value = data.get(attr)\n",
        "\n",
        "        # Comparison operations\n",
        "        if op == \">\":\n",
        "            return attr_value > float(val)\n",
        "        elif op == \"<\":\n",
        "            return attr_value < float(val)\n",
        "        elif op == \"=\":\n",
        "            return str(attr_value) == str(val)\n",
        "    elif node.type == \"operator\":\n",
        "        left_eval = evaluate_rule(node.left, data)\n",
        "        right_eval = evaluate_rule(node.right, data)\n",
        "\n",
        "        # Logical operations\n",
        "        if node.value == \"AND\":\n",
        "            return left_eval and right_eval\n",
        "        elif node.value == \"OR\":\n",
        "            return left_eval or right_eval\n",
        "    return False\n"
      ]
    },
    {
      "cell_type": "code",
      "execution_count": 9,
      "metadata": {
        "colab": {
          "base_uri": "https://localhost:8080/",
          "height": 411
        },
        "id": "9DFgHvoyAK19",
        "outputId": "56974b74-0ae7-40a8-d988-45a66a04f27d"
      },
      "outputs": [
        {
          "name": "stdout",
          "output_type": "stream",
          "text": [
            "Rule 1 AST: ((([['age', '>', '30']] AND [['department', '=', 'Sales']]) OR ([['age', '<', '25']] AND [['department', '=', 'Marketing']])) AND ([['salary', '>', '50000']] OR [['experience', '>', '5']]))\n",
            "Rule 2 AST: (([['age', '>', '30']] AND [['department', '=', 'Marketing']]) AND ([['salary', '>', '20000']] OR [['experience', '>', '5']]))\n",
            "Combined AST: (((([['age', '>', '30']] AND [['department', '=', 'Sales']]) OR ([['age', '<', '25']] AND [['department', '=', 'Marketing']])) AND ([['salary', '>', '50000']] OR [['experience', '>', '5']])) AND (([['age', '>', '30']] AND [['department', '=', 'Marketing']]) AND ([['salary', '>', '20000']] OR [['experience', '>', '5']])))\n"
          ]
        }
      ],
      "source": [
        "# Define sample rule strings\n",
        "rule1_string = \"((age > 30 AND department = 'Sales') OR (age < 25 AND department = 'Marketing')) AND (salary > 50000 OR experience > 5)\"\n",
        "rule2_string = \"((age > 30 AND department = 'Marketing')) AND (salary > 20000 OR experience > 5)\"\n",
        "\n",
        "# Create ASTs for sample rules\n",
        "rule1_ast = create_rule(rule1_string)\n",
        "rule2_ast = create_rule(rule2_string)\n",
        "\n",
        "# Combine rules\n",
        "combined_ast = combine_rules([rule1_ast, rule2_ast], operator=\"AND\")\n",
        "\n",
        "# Sample user data for evaluation\n",
        "sample_data1 = {\"age\": 35, \"department\": \"Sales\", \"salary\": 60000, \"experience\": 3}\n",
        "sample_data2 = {\"age\": 23, \"department\": \"Marketing\", \"salary\": 25000, \"experience\": 6}\n",
        "\n",
        "# Test evaluations\n",
        "print(\"Rule 1 AST:\", rule1_ast)\n",
        "print(\"Rule 2 AST:\", rule2_ast)\n",
        "print(\"Combined AST:\", combined_ast)\n",
        "\n"
      ]
    },
    {
      "cell_type": "code",
      "execution_count": 10,
      "metadata": {
        "id": "raeCVy49GBut"
      },
      "outputs": [],
      "source": [
        "api_key = \"e7b7b55f805ebeacb1929b9ba24c46e3\"\n"
      ]
    },
    {
      "cell_type": "code",
      "execution_count": 11,
      "metadata": {
        "id": "70TXHq1QJCd_"
      },
      "outputs": [],
      "source": [
        "import requests\n",
        "import time\n",
        "\n",
        "# List of metro cities in India\n",
        "cities = [\"Delhi\", \"Mumbai\", \"Chennai\", \"Bangalore\", \"Kolkata\", \"Hyderabad\"]\n",
        "\n",
        "# Function to fetch weather data for each city\n",
        "def fetch_weather_data(api_key, city):\n",
        "    url = f\"http://api.openweathermap.org/data/2.5/weather?q={city}&appid={api_key}\"\n",
        "    response = requests.get(url)\n",
        "    if response.status_code == 200:\n",
        "        data = response.json()\n",
        "        weather_info = {\n",
        "            \"city\": city,\n",
        "            \"main\": data[\"weather\"][0][\"main\"],\n",
        "            \"temp\": data[\"main\"][\"temp\"] - 273.15,  # Convert from Kelvin to Celsius\n",
        "            \"feels_like\": data[\"main\"][\"feels_like\"] - 273.15,  # Convert from Kelvin to Celsius\n",
        "            \"dt\": data[\"dt\"]\n",
        "        }\n",
        "        return weather_info\n",
        "    else:\n",
        "        print(f\"Failed to retrieve data for {city}\")\n",
        "        return None\n"
      ]
    },
    {
      "cell_type": "code",
      "execution_count": 12,
      "metadata": {
        "id": "uIiFJpkFJE5T"
      },
      "outputs": [],
      "source": [
        "# Dictionary to store weather data history\n",
        "weather_data_history = {city: [] for city in cities}\n",
        "\n",
        "# Function to retrieve data for all cities at intervals\n",
        "def collect_weather_data(api_key, interval=300):\n",
        "    while True:\n",
        "        for city in cities:\n",
        "            weather_info = fetch_weather_data(api_key, city)\n",
        "            if weather_info:\n",
        "                weather_data_history[city].append(weather_info)\n",
        "        print(\"Data retrieved for all cities. Sleeping...\")\n",
        "        time.sleep(interval)  # Wait for the specified interval before the next fetch\n"
      ]
    },
    {
      "cell_type": "code",
      "execution_count": 13,
      "metadata": {
        "id": "V_73XnFYJIxx"
      },
      "outputs": [],
      "source": [
        "from datetime import datetime\n",
        "from collections import Counter\n",
        "\n",
        "# Helper to convert timestamps to date\n",
        "def to_date(timestamp):\n",
        "    return datetime.fromtimestamp(timestamp).strftime('%Y-%m-%d')\n",
        "\n",
        "# Function to compute daily summary for each city\n",
        "def daily_summary(city):\n",
        "    daily_data = {}\n",
        "    for entry in weather_data_history[city]:\n",
        "        date = to_date(entry[\"dt\"])\n",
        "        if date not in daily_data:\n",
        "            daily_data[date] = {\"temp\": [], \"conditions\": []}\n",
        "        daily_data[date][\"temp\"].append(entry[\"temp\"])\n",
        "        daily_data[date][\"conditions\"].append(entry[\"main\"])\n",
        "\n",
        "    daily_summary = {}\n",
        "    for date, values in daily_data.items():\n",
        "        temps = values[\"temp\"]\n",
        "        conditions = values[\"conditions\"]\n",
        "        daily_summary[date] = {\n",
        "            \"avg_temp\": sum(temps) / len(temps),\n",
        "            \"max_temp\": max(temps),\n",
        "            \"min_temp\": min(temps),\n",
        "            \"dominant_condition\": Counter(conditions).most_common(1)[0][0]\n",
        "        }\n",
        "    return daily_summary\n"
      ]
    },
    {
      "cell_type": "code",
      "execution_count": 14,
      "metadata": {
        "id": "Ks_5Q1QUJLwh"
      },
      "outputs": [],
      "source": [
        "# Threshold for triggering alerts\n",
        "temp_threshold = 35  # Celsius\n",
        "\n",
        "# Function to check for threshold breaches\n",
        "def check_thresholds(city):\n",
        "    recent_data = weather_data_history[city][-2:]  # Last two updates for the city\n",
        "    if len(recent_data) < 2:\n",
        "        return\n",
        "    # Check for consecutive temperature breaches\n",
        "    if all(data[\"temp\"] > temp_threshold for data in recent_data):\n",
        "        print(f\"Alert! {city} temperature exceeded {temp_threshold}°C for two consecutive updates.\")\n"
      ]
    },
    {
      "cell_type": "code",
      "execution_count": 15,
      "metadata": {
        "colab": {
          "base_uri": "https://localhost:8080/",
          "height": 607
        },
        "id": "JwL8thCNJOaE",
        "outputId": "9c8fcbf5-6a13-451d-9d84-cceac2eeb186"
      },
      "outputs": [
        {
          "data": {
            "image/png": "[encoded data removed]",
            "text/plain": [
              "<Figure size 1000x600 with 1 Axes>"
            ]
          },
          "metadata": {},
          "output_type": "display_data"
        }
      ],
      "source": [
        "import matplotlib.pyplot as plt\n",
        "\n",
        "# Plot function for visualizing daily temperature summary\n",
        "def plot_daily_summary(city, daily_summary_data):\n",
        "    dates = list(daily_summary_data.keys())\n",
        "    avg_temps = [data[\"avg_temp\"] for data in daily_summary_data.values()]\n",
        "    max_temps = [data[\"max_temp\"] for data in daily_summary_data.values()]\n",
        "    min_temps = [data[\"min_temp\"] for data in daily_summary_data.values()]\n",
        "\n",
        "    plt.figure(figsize=(10, 6))\n",
        "    plt.plot(dates, avg_temps, label='Average Temperature', color='orange')\n",
        "    plt.plot(dates, max_temps, label='Max Temperature', color='red')\n",
        "    plt.plot(dates, min_temps, label='Min Temperature', color='blue')\n",
        "    plt.xlabel(\"Date\")\n",
        "    plt.ylabel(\"Temperature (°C)\")\n",
        "    plt.title(f\"Daily Temperature Summary for {city}\")\n",
        "    plt.legend()\n",
        "    plt.xticks(rotation=45)\n",
        "    plt.tight_layout()\n",
        "    plt.show()\n",
        "\n",
        "# Usage example:\n",
        "# Calculate daily summary for a city (e.g., \"Delhi\")\n",
        "delhi_summary = daily_summary(\"Delhi\")\n",
        "plot_daily_summary(\"Delhi\", delhi_summary)\n"
      ]
    },
    {
      "cell_type": "code",
      "execution_count": 57,
      "metadata": {
        "id": "b3MzuOfMJRI3"
      },
      "outputs": [],
      "source": []
    }
  ],
  "metadata": {
    "colab": {
      "provenance": []
    },
    "kernelspec": {
      "display_name": "Python 3",
      "name": "python3"
    },
    "language_info": {
      "codemirror_mode": {
        "name": "ipython",
        "version": 3
      },
      "file_extension": ".py",
      "mimetype": "text/x-python",
      "name": "python",
      "nbconvert_exporter": "python",
      "pygments_lexer": "ipython3",
      "version": "3.10.6"
    }
  },
  "nbformat": 4,
  "nbformat_minor": 0
}
